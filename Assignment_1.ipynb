{
  "nbformat": 4,
  "nbformat_minor": 0,
  "metadata": {
    "colab": {
      "name": "Assignment_1.ipynb",
      "provenance": [],
      "authorship_tag": "ABX9TyOBYNHbcohR5s9yJttFeF08",
      "include_colab_link": true
    },
    "kernelspec": {
      "name": "python3",
      "display_name": "Python 3"
    },
    "language_info": {
      "name": "python"
    }
  },
  "cells": [
    {
      "cell_type": "markdown",
      "metadata": {
        "id": "view-in-github",
        "colab_type": "text"
      },
      "source": [
        "<a href=\"https://colab.research.google.com/github/LatoyaInnocent/SQL/blob/main/Assignment_1.ipynb\" target=\"_parent\"><img src=\"https://colab.research.google.com/assets/colab-badge.svg\" alt=\"Open In Colab\"/></a>"
      ]
    },
    {
      "cell_type": "markdown",
      "metadata": {
        "id": "bZkFhr6tTF-o"
      },
      "source": [
        "SQL SELECT, WHERE, DISTINCT practice\n",
        "1. Write a select statement to return all columns and rows from all the customer table.\n",
        "- SELECT * FROM customer;\n",
        "\n",
        "2. Write a query to select first name, last name, and email from the customer table.\n",
        "- SELECT first_name, last_name, email FROM customer; \n",
        "\n",
        "3. Write a query to return all rows and columns from the film table.\n",
        "- SELECT * FROM film;\n",
        "\n",
        "4. Write a query to return unique rows from the release_year column in the film table.\n",
        "- SELECT DISTINCT release_year FROM film;\n",
        "\n",
        "5. Write a query to return unique rows from the rental_rate column in the film table.\n",
        "- SELECT DISTINCT rental_rate FROM film;\n",
        "\n",
        "6. A customer left us some feedback about our store. Write a query to find her email address - for Nancy Thomas\n",
        "- SELECT email FROM customer WHERE first_name = 'Nancy' and last_name = 'Thomas';\n",
        "\n",
        "7. We're trying to find a customer located at a certain address '259 Ipoh Drive' - can you find their phone number?\n",
        "- SELECT phone_number FROM address WHERE address = '259 Ipoh Drive';\n",
        "\n",
        "8. Write a query from the customer table, where store_id is 1 and address is greater than 150.\n",
        "- SELECT * FROM customer WHERE store_id = 1 and store_id > 150;\n",
        "\n",
        "9. Write a query from the payment table where the amount is either 4.99 or 1.99.\n",
        "-SELECT amount FROM payment WHERE amount = 4.99 or amount = 1.99;\n",
        "\n",
        "10. Write a query to return a list of transitions from the payment tablewhere the amount is greater than 5.\n",
        "- SELECT * FROM payment WHERE amount >5;"
      ]
    }
  ]
}